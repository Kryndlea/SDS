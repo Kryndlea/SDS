{
  "cells": [
    {
      "cell_type": "markdown",
      "metadata": {},
      "source": [
        "# Learning GeoPandas\n",
        "\n",
        "Here is one way of getting the solution. There are others, feel free to\n",
        "share yours.\n"
      ]
    },
    {
      "cell_type": "code",
      "execution_count": null,
      "metadata": {},
      "outputs": [],
      "source": [
        "import geopandas as gpd\n",
        "import contextily as ctx"
      ]
    },
    {
      "cell_type": "code",
      "execution_count": null,
      "metadata": {},
      "outputs": [],
      "source": [
        "price = gpd.read_file(\"https://opendata.iprpraha.cz/CUR/SED/SED_CenovaMapa_p/S_JTSK/SED_CenovaMapa_p_shp.zip\")\n",
        "districts = gpd.read_file(\"https://opendata.iprpraha.cz/CUR/MAP/MAP_MESTSKECASTI_P/S_JTSK/MAP_MESTSKECASTI_P_shp.zip\")"
      ]
    },
    {
      "cell_type": "code",
      "execution_count": null,
      "metadata": {},
      "outputs": [],
      "source": [
        "price[\"CENA\"] = price[\"CENA\"].replace(\"N\", None).astype('float')"
      ]
    },
    {
      "cell_type": "markdown",
      "metadata": {},
      "source": [
        "- Plot the price.\n",
        "- Plot boundaries on top. Try different colours to get a nice combination of colours.\n",
        "- Show a legend.\n",
        "- Use CartoDB Voyager or CartoDB Dark Matter basemap.\n",
        "- Can you figure out how to change the colormap?\n",
        "- Can you change the transparency of polygons?\n",
        "\n",
        "Interactive:"
      ]
    },
    {
      "cell_type": "code",
      "execution_count": null,
      "metadata": {},
      "outputs": [],
      "source": [
        "m = price.explore(\"CENA\", legend=True, tiles=\"CartoDB Voyager\", cmap=\"plasma\", style_kwds={\"fillOpacity\": .5})\n",
        "districts.boundary.explore(m=m, color=\"red\")"
      ]
    },
    {
      "cell_type": "markdown",
      "metadata": {},
      "source": [
        "Static:"
      ]
    },
    {
      "cell_type": "code",
      "execution_count": null,
      "metadata": {},
      "outputs": [],
      "source": [
        "ax = price.plot(\"CENA\", legend=True, cmap=\"plasma\", alpha=.5)\n",
        "districts.boundary.plot(ax=ax, color=\"red\")\n",
        "ctx.add_basemap(ax=ax, crs=price.crs, source=\"CartoDB Voyager\")"
      ]
    },
    {
      "cell_type": "markdown",
      "metadata": {},
      "source": [
        "Create a convex hull around each polygon in price."
      ]
    },
    {
      "cell_type": "code",
      "execution_count": null,
      "metadata": {},
      "outputs": [],
      "source": [
        "price[\"hull\"] = price.convex_hull"
      ]
    },
    {
      "cell_type": "markdown",
      "metadata": {},
      "source": [
        "Calculate the area of these convex hulls."
      ]
    },
    {
      "cell_type": "code",
      "execution_count": null,
      "metadata": {},
      "outputs": [],
      "source": [
        "price[\"hull_area\"] = price[\"hull\"].area"
      ]
    },
    {
      "cell_type": "markdown",
      "metadata": {},
      "source": [
        "Find the 20% smallest convex hulls in the GeoDataFrame. Create a new object (e.g. smallest) only with them."
      ]
    },
    {
      "cell_type": "code",
      "execution_count": null,
      "metadata": {},
      "outputs": [],
      "source": [
        "total_length = len(price)  # get total length\n",
        "twenty_percent = total_length / 5  # get the length of 20%\n",
        "twenty_percent"
      ]
    },
    {
      "cell_type": "markdown",
      "metadata": {},
      "source": [
        "You can either type it in:"
      ]
    },
    {
      "cell_type": "code",
      "execution_count": null,
      "metadata": {},
      "outputs": [],
      "source": [
        "smallest = price.sort_values(\"hull_area\").iloc[:1889]"
      ]
    },
    {
      "cell_type": "markdown",
      "metadata": {},
      "source": [
        "Or convert the `float` to `int` and use it programmatically."
      ]
    },
    {
      "cell_type": "code",
      "execution_count": null,
      "metadata": {},
      "outputs": [],
      "source": [
        "smallest = price.sort_values(\"hull_area\").iloc[:int(twenty_percent)]"
      ]
    },
    {
      "cell_type": "markdown",
      "metadata": {},
      "source": [
        "Create a multi-layer map of Prague where the smallest areas are coloured in one colour, and the rest appear in black. _(I need to revise this task, the result is not great...)_"
      ]
    },
    {
      "cell_type": "code",
      "execution_count": null,
      "metadata": {},
      "outputs": [],
      "source": [
        "ax = price.plot(color=\"black\")\n",
        "smallest.plot(ax=ax, color=\"red\")"
      ]
    },
    {
      "cell_type": "markdown",
      "metadata": {},
      "source": [
        "Join the two GeoDataFrame using .sjoin() or .overlay() methods."
      ]
    },
    {
      "cell_type": "code",
      "execution_count": null,
      "metadata": {},
      "outputs": [],
      "source": [
        "price_w_district = price.sjoin(districts)"
      ]
    },
    {
      "cell_type": "markdown",
      "metadata": {},
      "source": [
        "Is the mean price higher in Praha 3 or Praha 6?"
      ]
    },
    {
      "cell_type": "code",
      "execution_count": null,
      "metadata": {},
      "outputs": [],
      "source": [
        "sorted_price = price_w_district.groupby(\"NAZEV_MC\")[\"CENA\"].mean().sort_values()\n",
        "sorted_price"
      ]
    },
    {
      "cell_type": "markdown",
      "metadata": {},
      "source": [
        "From the Series above, you can read that Praha 3 is more expensive than Praha 6.\n",
        "\n",
        "Which district is the cheapest?\n",
        "\n",
        "Again, you can read that it is Praha-Přední Kopanina. But if you want to get that programmatically, you will need to access the index."
      ]
    },
    {
      "cell_type": "code",
      "execution_count": null,
      "metadata": {},
      "outputs": [],
      "source": [
        "sorted_price.idxmin()"
      ]
    },
    {
      "cell_type": "markdown",
      "metadata": {},
      "source": [
        "What is the difference between the cheapest and the most expensive one?"
      ]
    },
    {
      "cell_type": "code",
      "execution_count": null,
      "metadata": {},
      "outputs": [],
      "source": [
        "sorted_price.max() - sorted_price.mean()"
      ]
    }
  ],
  "metadata": {
    "kernelspec": {
      "display_name": "sds",
      "language": "python",
      "name": "sds"
    }
  },
  "nbformat": 4,
  "nbformat_minor": 4
}
