{
 "cells": [
  {
   "cell_type": "code",
   "execution_count": 11,
   "metadata": {},
   "outputs": [],
   "source": [
    "import pandas as pd"
   ]
  },
  {
   "cell_type": "code",
   "execution_count": 32,
   "metadata": {},
   "outputs": [],
   "source": [
    "chicago_flu = pd.read_csv(\"tracts.csv\").drop(columns=[\"week\", \"pop\", \"illit.r\", \"den.r\"])\n",
    "deaths_total = chicago_flu.groupby(\"gisjoin\").counts.sum()\n",
    "chicago_flu = chicago_flu[~chicago_flu.duplicated(\"gisjoin\")].set_index(\"gisjoin\").drop(columns=\"counts\")\n",
    "chicago_flu[\"death_count\"] = deaths_total\n",
    "chicago_flu = chicago_flu.rename(columns={c:c.replace(\".\", \"_\").lower() for c in chicago_flu.columns})\n",
    "chicago_flu.index.name = \"geography_code\""
   ]
  },
  {
   "cell_type": "code",
   "execution_count": 34,
   "metadata": {},
   "outputs": [],
   "source": [
    "chicago_flu.to_csv(\"../../chapter_02/data/chicago_influenza_1918.csv\")"
   ]
  }
 ],
 "metadata": {
  "kernelspec": {
   "display_name": "stable",
   "language": "python",
   "name": "python3"
  },
  "language_info": {
   "codemirror_mode": {
    "name": "ipython",
    "version": 3
   },
   "file_extension": ".py",
   "mimetype": "text/x-python",
   "name": "python",
   "nbconvert_exporter": "python",
   "pygments_lexer": "ipython3",
   "version": "3.10.11"
  },
  "orig_nbformat": 4
 },
 "nbformat": 4,
 "nbformat_minor": 2
}
