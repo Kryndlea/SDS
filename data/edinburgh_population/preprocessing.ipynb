{
 "cells": [
  {
   "cell_type": "code",
   "execution_count": 2,
   "metadata": {},
   "outputs": [],
   "source": [
    "import geopandas as gpd\n",
    "import rioxarray\n",
    "import xarray as xr"
   ]
  },
  {
   "cell_type": "code",
   "execution_count": 3,
   "metadata": {},
   "outputs": [],
   "source": [
    "simd = gpd.read_file(\"../../chapter_10/data/edinburgh_simd_2020.gpkg\")"
   ]
  },
  {
   "cell_type": "code",
   "execution_count": 4,
   "metadata": {},
   "outputs": [],
   "source": [
    "pop_url = \"https://jeodpp.jrc.ec.europa.eu/ftp/jrc-opendata/GHSL/GHS_POP_GLOBE_R2023A/GHS_POP_E2030_GLOBE_R2023A_54009_100/V1-0/tiles/GHS_POP_E2030_GLOBE_R2023A_54009_100_V1_0_R3_C18.zip\"\n",
    "p = f\"zip+{pop_url}!GHS_POP_E2030_GLOBE_R2023A_54009_100_V1_0_R3_C18.tif\"\n",
    "population = rioxarray.open_rasterio(p, masked=True)\n",
    "\n",
    "population_edi = population.rio.clip(\n",
    "    simd.to_crs(population.rio.crs).geometry\n",
    ").squeeze()\n",
    "\n",
    "population_edi_osgb = population_edi.rio.reproject(\"epsg:27700\")"
   ]
  },
  {
   "cell_type": "code",
   "execution_count": 8,
   "metadata": {},
   "outputs": [],
   "source": [
    "population_edi_osgb.drop_vars(\"band\").rio.to_raster(\"../../chapter_10/data/edinburgh_population.tif\")"
   ]
  },
  {
   "cell_type": "code",
   "execution_count": null,
   "metadata": {},
   "outputs": [],
   "source": []
  }
 ],
 "metadata": {
  "kernelspec": {
   "display_name": "sds",
   "language": "python",
   "name": "sds"
  },
  "language_info": {
   "codemirror_mode": {
    "name": "ipython",
    "version": 3
   },
   "file_extension": ".py",
   "mimetype": "text/x-python",
   "name": "python",
   "nbconvert_exporter": "python",
   "pygments_lexer": "ipython3",
   "version": "3.11.4"
  },
  "orig_nbformat": 4
 },
 "nbformat": 4,
 "nbformat_minor": 2
}
