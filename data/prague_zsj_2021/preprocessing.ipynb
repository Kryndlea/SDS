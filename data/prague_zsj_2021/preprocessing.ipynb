{
    "cells": [
        {
            "cell_type": "code",
            "execution_count": 1,
            "metadata": {},
            "outputs": [],
            "source": [
                "import geopandas as gpd"
            ]
        },
        {
            "cell_type": "markdown",
            "metadata": {},
            "source": [
                "Downloaded from https://datahub.natur.cuni.cz/datasets/e7420b689ff74fd98635306bf4ef6b7b_1/explore."
            ]
        },
        {
            "cell_type": "code",
            "execution_count": 2,
            "metadata": {},
            "outputs": [],
            "source": [
                "zsj = gpd.read_file(\"zsj_prahy_2021.geojson\")"
            ]
        },
        {
            "cell_type": "code",
            "execution_count": 8,
            "metadata": {},
            "outputs": [],
            "source": [
                "zsj = zsj[[\"NAZ_ZSJ\", \"NAZ_KU\", \"pocet_osob\", \"geometry\"]]\n",
                "zsj.columns = [\"NAZ_ZSJ\", \"NAZ_KU\", \"n_people\", \"geometry\"]"
            ]
        },
        {
            "cell_type": "code",
            "execution_count": 14,
            "metadata": {},
            "outputs": [],
            "source": [
                "zsj.to_crs(\"EPSG:5514\").to_file(\"../../spatial_graphs/data/zsj_prague_2021.gpkg\")"
            ]
        },
        {
            "cell_type": "code",
            "execution_count": 15,
            "metadata": {},
            "outputs": [
                {
                    "data": {
                        "text/html": [
                            "<div>\n",
                            "<style scoped>\n",
                            "    .dataframe tbody tr th:only-of-type {\n",
                            "        vertical-align: middle;\n",
                            "    }\n",
                            "\n",
                            "    .dataframe tbody tr th {\n",
                            "        vertical-align: top;\n",
                            "    }\n",
                            "\n",
                            "    .dataframe thead th {\n",
                            "        text-align: right;\n",
                            "    }\n",
                            "</style>\n",
                            "<table border=\"1\" class=\"dataframe\">\n",
                            "  <thead>\n",
                            "    <tr style=\"text-align: right;\">\n",
                            "      <th></th>\n",
                            "      <th>NAZ_ZSJ</th>\n",
                            "      <th>NAZ_KU</th>\n",
                            "      <th>n_people</th>\n",
                            "      <th>geometry</th>\n",
                            "    </tr>\n",
                            "  </thead>\n",
                            "  <tbody>\n",
                            "    <tr>\n",
                            "      <th>0</th>\n",
                            "      <td>Běchovice</td>\n",
                            "      <td>Běchovice</td>\n",
                            "      <td>1563.0</td>\n",
                            "      <td>MULTIPOLYGON (((14.62471 50.08417, 14.62525 50...</td>\n",
                            "    </tr>\n",
                            "    <tr>\n",
                            "      <th>1</th>\n",
                            "      <td>Nová Dubeč</td>\n",
                            "      <td>Běchovice</td>\n",
                            "      <td>662.0</td>\n",
                            "      <td>MULTIPOLYGON (((14.60489 50.08146, 14.60644 50...</td>\n",
                            "    </tr>\n",
                            "    <tr>\n",
                            "      <th>2</th>\n",
                            "      <td>Benice</td>\n",
                            "      <td>Benice</td>\n",
                            "      <td>728.0</td>\n",
                            "      <td>MULTIPOLYGON (((14.60585 50.01581, 14.60660 50...</td>\n",
                            "    </tr>\n",
                            "    <tr>\n",
                            "      <th>3</th>\n",
                            "      <td>Březiněves</td>\n",
                            "      <td>Březiněves</td>\n",
                            "      <td>1808.0</td>\n",
                            "      <td>MULTIPOLYGON (((14.48546 50.17206, 14.48539 50...</td>\n",
                            "    </tr>\n",
                            "    <tr>\n",
                            "      <th>4</th>\n",
                            "      <td>Dolní Černošice</td>\n",
                            "      <td>Lipence</td>\n",
                            "      <td>150.0</td>\n",
                            "      <td>MULTIPOLYGON (((14.36257 49.98042, 14.36262 49...</td>\n",
                            "    </tr>\n",
                            "    <tr>\n",
                            "      <th>...</th>\n",
                            "      <td>...</td>\n",
                            "      <td>...</td>\n",
                            "      <td>...</td>\n",
                            "      <td>...</td>\n",
                            "    </tr>\n",
                            "    <tr>\n",
                            "      <th>948</th>\n",
                            "      <td>K Březiněvsi</td>\n",
                            "      <td>Ďáblice</td>\n",
                            "      <td>0.0</td>\n",
                            "      <td>MULTIPOLYGON (((14.48947 50.16393, 14.48990 50...</td>\n",
                            "    </tr>\n",
                            "    <tr>\n",
                            "      <th>949</th>\n",
                            "      <td>Ústřední vojenská nemocnice</td>\n",
                            "      <td>Dejvice</td>\n",
                            "      <td>0.0</td>\n",
                            "      <td>MULTIPOLYGON (((14.38805 50.09856, 14.38906 50...</td>\n",
                            "    </tr>\n",
                            "    <tr>\n",
                            "      <th>950</th>\n",
                            "      <td>Výzkumný ústav vodohospodářský</td>\n",
                            "      <td>Dejvice</td>\n",
                            "      <td>10.0</td>\n",
                            "      <td>MULTIPOLYGON (((14.39341 50.12189, 14.39352 50...</td>\n",
                            "    </tr>\n",
                            "    <tr>\n",
                            "      <th>951</th>\n",
                            "      <td>Sídliště Jalodvorská</td>\n",
                            "      <td>Krč</td>\n",
                            "      <td>1737.0</td>\n",
                            "      <td>MULTIPOLYGON (((14.46301 50.02124, 14.46324 50...</td>\n",
                            "    </tr>\n",
                            "    <tr>\n",
                            "      <th>952</th>\n",
                            "      <td>Strašnice-Za Dráhou</td>\n",
                            "      <td>Strašnice</td>\n",
                            "      <td>242.0</td>\n",
                            "      <td>MULTIPOLYGON (((14.52096 50.06713, 14.52095 50...</td>\n",
                            "    </tr>\n",
                            "  </tbody>\n",
                            "</table>\n",
                            "<p>953 rows × 4 columns</p>\n",
                            "</div>"
                        ],
                        "text/plain": [
                            "                            NAZ_ZSJ      NAZ_KU  n_people  \\\n",
                            "0                         Běchovice   Běchovice    1563.0   \n",
                            "1                        Nová Dubeč   Běchovice     662.0   \n",
                            "2                            Benice      Benice     728.0   \n",
                            "3                        Březiněves  Březiněves    1808.0   \n",
                            "4                   Dolní Černošice     Lipence     150.0   \n",
                            "..                              ...         ...       ...   \n",
                            "948                    K Březiněvsi     Ďáblice       0.0   \n",
                            "949     Ústřední vojenská nemocnice     Dejvice       0.0   \n",
                            "950  Výzkumný ústav vodohospodářský     Dejvice      10.0   \n",
                            "951            Sídliště Jalodvorská         Krč    1737.0   \n",
                            "952             Strašnice-Za Dráhou   Strašnice     242.0   \n",
                            "\n",
                            "                                              geometry  \n",
                            "0    MULTIPOLYGON (((14.62471 50.08417, 14.62525 50...  \n",
                            "1    MULTIPOLYGON (((14.60489 50.08146, 14.60644 50...  \n",
                            "2    MULTIPOLYGON (((14.60585 50.01581, 14.60660 50...  \n",
                            "3    MULTIPOLYGON (((14.48546 50.17206, 14.48539 50...  \n",
                            "4    MULTIPOLYGON (((14.36257 49.98042, 14.36262 49...  \n",
                            "..                                                 ...  \n",
                            "948  MULTIPOLYGON (((14.48947 50.16393, 14.48990 50...  \n",
                            "949  MULTIPOLYGON (((14.38805 50.09856, 14.38906 50...  \n",
                            "950  MULTIPOLYGON (((14.39341 50.12189, 14.39352 50...  \n",
                            "951  MULTIPOLYGON (((14.46301 50.02124, 14.46324 50...  \n",
                            "952  MULTIPOLYGON (((14.52096 50.06713, 14.52095 50...  \n",
                            "\n",
                            "[953 rows x 4 columns]"
                        ]
                    },
                    "execution_count": 15,
                    "metadata": {},
                    "output_type": "execute_result"
                }
            ],
            "source": [
                "zsj"
            ]
        }
    ],
    "metadata": {
        "kernelspec": {
            "display_name": "sds",
            "language": "python",
            "name": "python3"
        },
        "language_info": {
            "codemirror_mode": {
                "name": "ipython",
                "version": 3
            },
            "file_extension": ".py",
            "mimetype": "text/x-python",
            "name": "python",
            "nbconvert_exporter": "python",
            "pygments_lexer": "ipython3",
            "version": "3.11.4"
        },
        "orig_nbformat": 4
    },
    "nbformat": 4,
    "nbformat_minor": 2
}