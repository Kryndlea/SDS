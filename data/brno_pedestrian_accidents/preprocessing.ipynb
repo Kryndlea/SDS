{
    "cells": [
        {
            "cell_type": "code",
            "execution_count": 1,
            "metadata": {},
            "outputs": [],
            "source": [
                "import geopandas as gpd"
            ]
        },
        {
            "cell_type": "markdown",
            "metadata": {},
            "source": [
                "File downloaded from https://data.brno.cz/datasets/mestobrno::nehody-s-účastí-chodců-pedestrian-accidents/about"
            ]
        },
        {
            "cell_type": "code",
            "execution_count": 44,
            "metadata": {},
            "outputs": [],
            "source": [
                "df = gpd.read_file(\"brno_pedestrian_accidents.geojson\")"
            ]
        },
        {
            "cell_type": "code",
            "execution_count": 45,
            "metadata": {},
            "outputs": [],
            "source": [
                "df = df.drop(columns=['OBJECTID', 'id', 'datum', 'hodina', 'POINT_X', \"POINT_Y\", \"GlobalID\", \"geometry\"])"
            ]
        },
        {
            "cell_type": "code",
            "execution_count": 46,
            "metadata": {},
            "outputs": [],
            "source": [
                "df = df.dropna(subset=[\"d\", \"e\"])"
            ]
        },
        {
            "cell_type": "code",
            "execution_count": 47,
            "metadata": {},
            "outputs": [],
            "source": [
                "df = df.set_geometry(gpd.points_from_xy(df[\"d\"], df[\"e\"], crs=5514)).drop(columns=[\"d\", \"e\"])"
            ]
        },
        {
            "cell_type": "code",
            "execution_count": 49,
            "metadata": {},
            "outputs": [],
            "source": [
                "df.to_file(\"../../point_patterns/data/brno_pedestrian_accidents.gpkg\")"
            ]
        }
    ],
    "metadata": {
        "kernelspec": {
            "display_name": "sds",
            "language": "python",
            "name": "sds"
        },
        "language_info": {
            "codemirror_mode": {
                "name": "ipython",
                "version": 3
            },
            "file_extension": ".py",
            "mimetype": "text/x-python",
            "name": "python",
            "nbconvert_exporter": "python",
            "pygments_lexer": "ipython3",
            "version": "3.11.4"
        },
        "orig_nbformat": 4
    },
    "nbformat": 4,
    "nbformat_minor": 2
}