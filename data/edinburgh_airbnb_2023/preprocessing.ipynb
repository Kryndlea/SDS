{
 "cells": [
  {
   "cell_type": "code",
   "execution_count": 2,
   "metadata": {},
   "outputs": [],
   "source": [
    "import pandas as pd\n",
    "import geopandas as gpd"
   ]
  },
  {
   "cell_type": "code",
   "execution_count": 3,
   "metadata": {},
   "outputs": [],
   "source": [
    "url = \"http://data.insideairbnb.com/united-kingdom/scotland/edinburgh/2023-06-12/data/listings.csv.gz\"\n",
    "airbnb = pd.read_csv(url)\n",
    "airbnb = gpd.GeoDataFrame(\n",
    "    airbnb,\n",
    "    geometry=gpd.points_from_xy(\n",
    "        airbnb[\"longitude\"], airbnb[\"latitude\"], crs=\"EPSG:4326\"\n",
    "    ),\n",
    ")\n",
    "airbnb = airbnb.to_crs(\"EPSG:27700\")"
   ]
  },
  {
   "cell_type": "code",
   "execution_count": 8,
   "metadata": {},
   "outputs": [],
   "source": [
    "airbnb[[\"id\", \"bedrooms\", \"property_type\",\"price\", \"geometry\"]].to_file(\"../../chapter_10/data/edinburgh_airbnb_2023.gpkg\")"
   ]
  },
  {
   "cell_type": "code",
   "execution_count": null,
   "metadata": {},
   "outputs": [],
   "source": []
  }
 ],
 "metadata": {
  "kernelspec": {
   "display_name": "sds",
   "language": "python",
   "name": "sds"
  },
  "language_info": {
   "codemirror_mode": {
    "name": "ipython",
    "version": 3
   },
   "file_extension": ".py",
   "mimetype": "text/x-python",
   "name": "python",
   "nbconvert_exporter": "python",
   "pygments_lexer": "ipython3",
   "version": "3.11.4"
  },
  "orig_nbformat": 4
 },
 "nbformat": 4,
 "nbformat_minor": 2
}
