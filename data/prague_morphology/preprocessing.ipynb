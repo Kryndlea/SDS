{
 "cells": [
  {
   "cell_type": "code",
   "execution_count": 2,
   "metadata": {},
   "outputs": [],
   "source": [
    "import geopandas as gpd\n",
    "import pandas as pd\n",
    "import tobler\n",
    "import requests"
   ]
  },
  {
   "cell_type": "markdown",
   "metadata": {},
   "source": [
    "https://figshare.com/articles/dataset/Data_for_Methodological_Foundation_of_a_Numerical_Taxonomy_of_Urban_Form_research_paper/16897102"
   ]
  },
  {
   "cell_type": "code",
   "execution_count": 2,
   "metadata": {},
   "outputs": [],
   "source": [
    "url = \"https://figshare.com/ndownloader/files/31252828\""
   ]
  },
  {
   "cell_type": "code",
   "execution_count": 3,
   "metadata": {},
   "outputs": [],
   "source": [
    "r = requests.get(url)"
   ]
  },
  {
   "cell_type": "code",
   "execution_count": 5,
   "metadata": {},
   "outputs": [],
   "source": [
    "with open(\"geoms.gpkg.zip\", \"wb\") as f:\n",
    "    f.write(r.content)"
   ]
  },
  {
   "cell_type": "markdown",
   "metadata": {},
   "source": [
    "Unzip"
   ]
  },
  {
   "cell_type": "code",
   "execution_count": 3,
   "metadata": {},
   "outputs": [],
   "source": [
    "buildings = gpd.read_file(\"prg_geometry.gpkg\", engine='pyogrio', layer=\"buildings\")"
   ]
  },
  {
   "cell_type": "code",
   "execution_count": 4,
   "metadata": {},
   "outputs": [],
   "source": [
    "buildings = buildings.set_geometry(buildings.centroid)"
   ]
  },
  {
   "cell_type": "code",
   "execution_count": 5,
   "metadata": {},
   "outputs": [],
   "source": [
    "clusters = pd.read_csv(\"https://figshare.com/ndownloader/files/31250203\", index_col=0)"
   ]
  },
  {
   "cell_type": "code",
   "execution_count": 6,
   "metadata": {},
   "outputs": [],
   "source": [
    "buildings = buildings.merge(clusters, on=\"uID\")"
   ]
  },
  {
   "cell_type": "code",
   "execution_count": 7,
   "metadata": {},
   "outputs": [
    {
     "data": {
      "text/plain": [
       "10"
      ]
     },
     "execution_count": 7,
     "metadata": {},
     "output_type": "execute_result"
    }
   ],
   "source": [
    "buildings.cluster.nunique()"
   ]
  },
  {
   "cell_type": "code",
   "execution_count": 19,
   "metadata": {},
   "outputs": [],
   "source": [
    "prague = gpd.read_file(\n",
    "    \"https://martinfleischmann.net/sds/chapter_04/data/zsj_prague_2021.gpkg\"\n",
    ")"
   ]
  },
  {
   "cell_type": "code",
   "execution_count": 9,
   "metadata": {},
   "outputs": [],
   "source": [
    "buildings = buildings.sjoin(prague.to_crs(buildings.crs).drop(columns=\"n_people\"), how='left')"
   ]
  },
  {
   "cell_type": "code",
   "execution_count": 56,
   "metadata": {},
   "outputs": [],
   "source": [
    "r = requests.get(\"https://figshare.com/ndownloader/files/31250227\")\n",
    "with open(\"prg_primary.csv.gz\", \"wb\") as f:\n",
    "    f.write(r.content)"
   ]
  },
  {
   "cell_type": "code",
   "execution_count": 11,
   "metadata": {},
   "outputs": [],
   "source": [
    "data = pd.read_csv(\"prg_primary.csv.gz\", index_col=0)"
   ]
  },
  {
   "cell_type": "code",
   "execution_count": 14,
   "metadata": {},
   "outputs": [],
   "source": [
    "data = buildings.merge(data, on=\"uID\")"
   ]
  },
  {
   "cell_type": "code",
   "execution_count": 21,
   "metadata": {},
   "outputs": [],
   "source": [
    "data[[\"geometry\", \"cluster_x\", \"sicFAR\", \"sdbHei\", \"ssbCCo\", \"stbSAl\", \"ltbIBD\", \"ldbPWL\", \"NAZ_ZSJ\", \"NAZ_KU\"]].rename(columns={\n",
    "    \"cluster_x\": \"cluster\",\n",
    "    \"sicFAR\": \"floor_area_ratio\",\n",
    "    \"sdbHei\": \"height\",\n",
    "    \"ssbCCo\": \"compactness\",\n",
    "    \"stbSAl\": \"street_alignment\",\n",
    "    \"ltbIBD\": \"interbuilding_distance\",\n",
    "    \"ldbPWL\": \"block_perimeter_wall_length\",\n",
    "}).to_file(\"../../chapter_11/data/prg_building_locations.gpkg\", engine=\"pyogrio\")"
   ]
  }
 ],
 "metadata": {
  "kernelspec": {
   "display_name": "pysal",
   "language": "python",
   "name": "python3"
  },
  "language_info": {
   "codemirror_mode": {
    "name": "ipython",
    "version": 3
   },
   "file_extension": ".py",
   "mimetype": "text/x-python",
   "name": "python",
   "nbconvert_exporter": "python",
   "pygments_lexer": "ipython3",
   "version": "3.11.6"
  }
 },
 "nbformat": 4,
 "nbformat_minor": 2
}
